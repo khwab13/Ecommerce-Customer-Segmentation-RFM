{
 "cells": [
  {
   "cell_type": "code",
   "execution_count": 1,
   "id": "7f8aa1c4-1382-4f06-b45d-da07b0954bfc",
   "metadata": {},
   "outputs": [],
   "source": [
    "import pandas as pd\n",
    "import numpy as np\n",
    "import matplotlib.pyplot as plt"
   ]
  },
  {
   "cell_type": "code",
   "execution_count": 2,
   "id": "dec2d2c1-b240-439c-8579-3da1d03e6258",
   "metadata": {},
   "outputs": [],
   "source": [
    "df = pd.read_csv(r\"C:\\Users\\hp\\Downloads\\Sales Transaction v.4a.csv\\Sales Transaction v.4a.csv\")\n"
   ]
  },
  {
   "cell_type": "code",
   "execution_count": 3,
   "id": "a2b61607-3759-424d-ad1d-2568cebcbbb2",
   "metadata": {},
   "outputs": [
    {
     "data": {
      "text/html": [
       "<div>\n",
       "<style scoped>\n",
       "    .dataframe tbody tr th:only-of-type {\n",
       "        vertical-align: middle;\n",
       "    }\n",
       "\n",
       "    .dataframe tbody tr th {\n",
       "        vertical-align: top;\n",
       "    }\n",
       "\n",
       "    .dataframe thead th {\n",
       "        text-align: right;\n",
       "    }\n",
       "</style>\n",
       "<table border=\"1\" class=\"dataframe\">\n",
       "  <thead>\n",
       "    <tr style=\"text-align: right;\">\n",
       "      <th></th>\n",
       "      <th>TransactionNo</th>\n",
       "      <th>Date</th>\n",
       "      <th>ProductNo</th>\n",
       "      <th>ProductName</th>\n",
       "      <th>Price</th>\n",
       "      <th>Quantity</th>\n",
       "      <th>CustomerNo</th>\n",
       "      <th>Country</th>\n",
       "    </tr>\n",
       "  </thead>\n",
       "  <tbody>\n",
       "    <tr>\n",
       "      <th>0</th>\n",
       "      <td>581482</td>\n",
       "      <td>12/9/2019</td>\n",
       "      <td>22485</td>\n",
       "      <td>Set Of 2 Wooden Market Crates</td>\n",
       "      <td>21.47</td>\n",
       "      <td>12</td>\n",
       "      <td>17490.0</td>\n",
       "      <td>United Kingdom</td>\n",
       "    </tr>\n",
       "    <tr>\n",
       "      <th>1</th>\n",
       "      <td>581475</td>\n",
       "      <td>12/9/2019</td>\n",
       "      <td>22596</td>\n",
       "      <td>Christmas Star Wish List Chalkboard</td>\n",
       "      <td>10.65</td>\n",
       "      <td>36</td>\n",
       "      <td>13069.0</td>\n",
       "      <td>United Kingdom</td>\n",
       "    </tr>\n",
       "    <tr>\n",
       "      <th>2</th>\n",
       "      <td>581475</td>\n",
       "      <td>12/9/2019</td>\n",
       "      <td>23235</td>\n",
       "      <td>Storage Tin Vintage Leaf</td>\n",
       "      <td>11.53</td>\n",
       "      <td>12</td>\n",
       "      <td>13069.0</td>\n",
       "      <td>United Kingdom</td>\n",
       "    </tr>\n",
       "    <tr>\n",
       "      <th>3</th>\n",
       "      <td>581475</td>\n",
       "      <td>12/9/2019</td>\n",
       "      <td>23272</td>\n",
       "      <td>Tree T-Light Holder Willie Winkie</td>\n",
       "      <td>10.65</td>\n",
       "      <td>12</td>\n",
       "      <td>13069.0</td>\n",
       "      <td>United Kingdom</td>\n",
       "    </tr>\n",
       "    <tr>\n",
       "      <th>4</th>\n",
       "      <td>581475</td>\n",
       "      <td>12/9/2019</td>\n",
       "      <td>23239</td>\n",
       "      <td>Set Of 4 Knick Knack Tins Poppies</td>\n",
       "      <td>11.94</td>\n",
       "      <td>6</td>\n",
       "      <td>13069.0</td>\n",
       "      <td>United Kingdom</td>\n",
       "    </tr>\n",
       "  </tbody>\n",
       "</table>\n",
       "</div>"
      ],
      "text/plain": [
       "  TransactionNo       Date ProductNo                          ProductName  \\\n",
       "0        581482  12/9/2019     22485        Set Of 2 Wooden Market Crates   \n",
       "1        581475  12/9/2019     22596  Christmas Star Wish List Chalkboard   \n",
       "2        581475  12/9/2019     23235             Storage Tin Vintage Leaf   \n",
       "3        581475  12/9/2019     23272    Tree T-Light Holder Willie Winkie   \n",
       "4        581475  12/9/2019     23239    Set Of 4 Knick Knack Tins Poppies   \n",
       "\n",
       "   Price  Quantity  CustomerNo         Country  \n",
       "0  21.47        12     17490.0  United Kingdom  \n",
       "1  10.65        36     13069.0  United Kingdom  \n",
       "2  11.53        12     13069.0  United Kingdom  \n",
       "3  10.65        12     13069.0  United Kingdom  \n",
       "4  11.94         6     13069.0  United Kingdom  "
      ]
     },
     "execution_count": 3,
     "metadata": {},
     "output_type": "execute_result"
    }
   ],
   "source": [
    "df.head()"
   ]
  },
  {
   "cell_type": "code",
   "execution_count": 4,
   "id": "b0ae97eb-37bc-45fe-80c9-8d9a1bb003e0",
   "metadata": {},
   "outputs": [
    {
     "name": "stdout",
     "output_type": "stream",
     "text": [
      "<class 'pandas.core.frame.DataFrame'>\n",
      "RangeIndex: 536350 entries, 0 to 536349\n",
      "Data columns (total 8 columns):\n",
      " #   Column         Non-Null Count   Dtype  \n",
      "---  ------         --------------   -----  \n",
      " 0   TransactionNo  536350 non-null  object \n",
      " 1   Date           536350 non-null  object \n",
      " 2   ProductNo      536350 non-null  object \n",
      " 3   ProductName    536350 non-null  object \n",
      " 4   Price          536350 non-null  float64\n",
      " 5   Quantity       536350 non-null  int64  \n",
      " 6   CustomerNo     536295 non-null  float64\n",
      " 7   Country        536350 non-null  object \n",
      "dtypes: float64(2), int64(1), object(5)\n",
      "memory usage: 32.7+ MB\n"
     ]
    }
   ],
   "source": [
    "df.info()"
   ]
  },
  {
   "cell_type": "code",
   "execution_count": 5,
   "id": "f755141d-8643-4811-95da-a3bd9595d0be",
   "metadata": {},
   "outputs": [
    {
     "data": {
      "text/plain": [
       "TransactionNo     0\n",
       "Date              0\n",
       "ProductNo         0\n",
       "ProductName       0\n",
       "Price             0\n",
       "Quantity          0\n",
       "CustomerNo       55\n",
       "Country           0\n",
       "dtype: int64"
      ]
     },
     "execution_count": 5,
     "metadata": {},
     "output_type": "execute_result"
    }
   ],
   "source": [
    "df.isnull().sum()"
   ]
  },
  {
   "cell_type": "code",
   "execution_count": 6,
   "id": "d331144e-8e8a-4cfd-99e7-d4e7669b41de",
   "metadata": {},
   "outputs": [
    {
     "data": {
      "text/plain": [
       "(536350, 8)"
      ]
     },
     "execution_count": 6,
     "metadata": {},
     "output_type": "execute_result"
    }
   ],
   "source": [
    "df.shape"
   ]
  },
  {
   "cell_type": "code",
   "execution_count": 7,
   "id": "d53db21a-45c3-43d8-9809-6edb5fed0a9a",
   "metadata": {},
   "outputs": [
    {
     "name": "stdout",
     "output_type": "stream",
     "text": [
      "Duplicate 5200\n"
     ]
    }
   ],
   "source": [
    "print('Duplicate',df.duplicated().sum())"
   ]
  },
  {
   "cell_type": "code",
   "execution_count": 8,
   "id": "08183b8f-c703-4ab4-afb1-48952ca78b72",
   "metadata": {},
   "outputs": [],
   "source": [
    "df['Date'] = pd.to_datetime(df['Date'])"
   ]
  },
  {
   "cell_type": "code",
   "execution_count": 9,
   "id": "a0ac4754-ac3a-47c6-95fc-44e8d88ab76e",
   "metadata": {},
   "outputs": [
    {
     "name": "stdout",
     "output_type": "stream",
     "text": [
      "<class 'pandas.core.frame.DataFrame'>\n",
      "RangeIndex: 536350 entries, 0 to 536349\n",
      "Data columns (total 8 columns):\n",
      " #   Column         Non-Null Count   Dtype         \n",
      "---  ------         --------------   -----         \n",
      " 0   TransactionNo  536350 non-null  object        \n",
      " 1   Date           536350 non-null  datetime64[ns]\n",
      " 2   ProductNo      536350 non-null  object        \n",
      " 3   ProductName    536350 non-null  object        \n",
      " 4   Price          536350 non-null  float64       \n",
      " 5   Quantity       536350 non-null  int64         \n",
      " 6   CustomerNo     536295 non-null  float64       \n",
      " 7   Country        536350 non-null  object        \n",
      "dtypes: datetime64[ns](1), float64(2), int64(1), object(4)\n",
      "memory usage: 32.7+ MB\n"
     ]
    }
   ],
   "source": [
    "df.info() "
   ]
  },
  {
   "cell_type": "code",
   "execution_count": 10,
   "id": "38bcb787-a0e6-4661-8a0a-2d9f97aa8e68",
   "metadata": {},
   "outputs": [],
   "source": [
    "df = df.dropna(subset = ['CustomerNo'])"
   ]
  },
  {
   "cell_type": "code",
   "execution_count": 11,
   "id": "fc7807f5-7491-4c81-91af-d1fb8676bb61",
   "metadata": {},
   "outputs": [],
   "source": [
    "df = df.drop_duplicates()"
   ]
  },
  {
   "cell_type": "code",
   "execution_count": 12,
   "id": "f5435f13-6e6f-49bc-9d1a-88d0aa265551",
   "metadata": {},
   "outputs": [
    {
     "data": {
      "text/plain": [
       "(531095, 8)"
      ]
     },
     "execution_count": 12,
     "metadata": {},
     "output_type": "execute_result"
    }
   ],
   "source": [
    "df.shape"
   ]
  },
  {
   "cell_type": "code",
   "execution_count": 13,
   "id": "395fa570-80b7-4570-84f5-218623addb46",
   "metadata": {},
   "outputs": [
    {
     "data": {
      "text/plain": [
       "TransactionNo    0\n",
       "Date             0\n",
       "ProductNo        0\n",
       "ProductName      0\n",
       "Price            0\n",
       "Quantity         0\n",
       "CustomerNo       0\n",
       "Country          0\n",
       "dtype: int64"
      ]
     },
     "execution_count": 13,
     "metadata": {},
     "output_type": "execute_result"
    }
   ],
   "source": [
    "df.isnull().sum()"
   ]
  },
  {
   "cell_type": "code",
   "execution_count": 14,
   "id": "5697f4c2-1e4e-4b5d-94a1-b64afaeccc4f",
   "metadata": {},
   "outputs": [
    {
     "name": "stdout",
     "output_type": "stream",
     "text": [
      "<class 'pandas.core.frame.DataFrame'>\n",
      "Index: 531095 entries, 0 to 536349\n",
      "Data columns (total 8 columns):\n",
      " #   Column         Non-Null Count   Dtype         \n",
      "---  ------         --------------   -----         \n",
      " 0   TransactionNo  531095 non-null  object        \n",
      " 1   Date           531095 non-null  datetime64[ns]\n",
      " 2   ProductNo      531095 non-null  object        \n",
      " 3   ProductName    531095 non-null  object        \n",
      " 4   Price          531095 non-null  float64       \n",
      " 5   Quantity       531095 non-null  int64         \n",
      " 6   CustomerNo     531095 non-null  float64       \n",
      " 7   Country        531095 non-null  object        \n",
      "dtypes: datetime64[ns](1), float64(2), int64(1), object(4)\n",
      "memory usage: 36.5+ MB\n"
     ]
    }
   ],
   "source": [
    "df.info()"
   ]
  },
  {
   "cell_type": "code",
   "execution_count": 15,
   "id": "5bf2bb10-b1e1-4852-97b0-977a5020df10",
   "metadata": {},
   "outputs": [],
   "source": [
    "df['TotalSales'] = df['Price'] * df['Quantity']"
   ]
  },
  {
   "cell_type": "code",
   "execution_count": 16,
   "id": "a4ffd160-077c-4d5f-a628-68d45be68795",
   "metadata": {},
   "outputs": [
    {
     "data": {
      "text/html": [
       "<div>\n",
       "<style scoped>\n",
       "    .dataframe tbody tr th:only-of-type {\n",
       "        vertical-align: middle;\n",
       "    }\n",
       "\n",
       "    .dataframe tbody tr th {\n",
       "        vertical-align: top;\n",
       "    }\n",
       "\n",
       "    .dataframe thead th {\n",
       "        text-align: right;\n",
       "    }\n",
       "</style>\n",
       "<table border=\"1\" class=\"dataframe\">\n",
       "  <thead>\n",
       "    <tr style=\"text-align: right;\">\n",
       "      <th></th>\n",
       "      <th>TransactionNo</th>\n",
       "      <th>Date</th>\n",
       "      <th>ProductNo</th>\n",
       "      <th>ProductName</th>\n",
       "      <th>Price</th>\n",
       "      <th>Quantity</th>\n",
       "      <th>CustomerNo</th>\n",
       "      <th>Country</th>\n",
       "      <th>TotalSales</th>\n",
       "    </tr>\n",
       "  </thead>\n",
       "  <tbody>\n",
       "    <tr>\n",
       "      <th>0</th>\n",
       "      <td>581482</td>\n",
       "      <td>2019-12-09</td>\n",
       "      <td>22485</td>\n",
       "      <td>Set Of 2 Wooden Market Crates</td>\n",
       "      <td>21.47</td>\n",
       "      <td>12</td>\n",
       "      <td>17490.0</td>\n",
       "      <td>United Kingdom</td>\n",
       "      <td>257.64</td>\n",
       "    </tr>\n",
       "    <tr>\n",
       "      <th>1</th>\n",
       "      <td>581475</td>\n",
       "      <td>2019-12-09</td>\n",
       "      <td>22596</td>\n",
       "      <td>Christmas Star Wish List Chalkboard</td>\n",
       "      <td>10.65</td>\n",
       "      <td>36</td>\n",
       "      <td>13069.0</td>\n",
       "      <td>United Kingdom</td>\n",
       "      <td>383.40</td>\n",
       "    </tr>\n",
       "    <tr>\n",
       "      <th>2</th>\n",
       "      <td>581475</td>\n",
       "      <td>2019-12-09</td>\n",
       "      <td>23235</td>\n",
       "      <td>Storage Tin Vintage Leaf</td>\n",
       "      <td>11.53</td>\n",
       "      <td>12</td>\n",
       "      <td>13069.0</td>\n",
       "      <td>United Kingdom</td>\n",
       "      <td>138.36</td>\n",
       "    </tr>\n",
       "    <tr>\n",
       "      <th>3</th>\n",
       "      <td>581475</td>\n",
       "      <td>2019-12-09</td>\n",
       "      <td>23272</td>\n",
       "      <td>Tree T-Light Holder Willie Winkie</td>\n",
       "      <td>10.65</td>\n",
       "      <td>12</td>\n",
       "      <td>13069.0</td>\n",
       "      <td>United Kingdom</td>\n",
       "      <td>127.80</td>\n",
       "    </tr>\n",
       "    <tr>\n",
       "      <th>4</th>\n",
       "      <td>581475</td>\n",
       "      <td>2019-12-09</td>\n",
       "      <td>23239</td>\n",
       "      <td>Set Of 4 Knick Knack Tins Poppies</td>\n",
       "      <td>11.94</td>\n",
       "      <td>6</td>\n",
       "      <td>13069.0</td>\n",
       "      <td>United Kingdom</td>\n",
       "      <td>71.64</td>\n",
       "    </tr>\n",
       "  </tbody>\n",
       "</table>\n",
       "</div>"
      ],
      "text/plain": [
       "  TransactionNo       Date ProductNo                          ProductName  \\\n",
       "0        581482 2019-12-09     22485        Set Of 2 Wooden Market Crates   \n",
       "1        581475 2019-12-09     22596  Christmas Star Wish List Chalkboard   \n",
       "2        581475 2019-12-09     23235             Storage Tin Vintage Leaf   \n",
       "3        581475 2019-12-09     23272    Tree T-Light Holder Willie Winkie   \n",
       "4        581475 2019-12-09     23239    Set Of 4 Knick Knack Tins Poppies   \n",
       "\n",
       "   Price  Quantity  CustomerNo         Country  TotalSales  \n",
       "0  21.47        12     17490.0  United Kingdom      257.64  \n",
       "1  10.65        36     13069.0  United Kingdom      383.40  \n",
       "2  11.53        12     13069.0  United Kingdom      138.36  \n",
       "3  10.65        12     13069.0  United Kingdom      127.80  \n",
       "4  11.94         6     13069.0  United Kingdom       71.64  "
      ]
     },
     "execution_count": 16,
     "metadata": {},
     "output_type": "execute_result"
    }
   ],
   "source": [
    "df.head()"
   ]
  },
  {
   "cell_type": "code",
   "execution_count": 17,
   "id": "80330c2f-0166-45ff-afb3-305cb968782b",
   "metadata": {},
   "outputs": [
    {
     "name": "stdout",
     "output_type": "stream",
     "text": [
      "60134589.269999996\n"
     ]
    }
   ],
   "source": [
    "total_sales = df['TotalSales'].sum()\n",
    "print(total_sales)"
   ]
  },
  {
   "cell_type": "code",
   "execution_count": 18,
   "id": "0940fbb5-a284-4f91-986e-ff5d5aae625d",
   "metadata": {},
   "outputs": [
    {
     "name": "stdout",
     "output_type": "stream",
     "text": [
      "3767\n"
     ]
    }
   ],
   "source": [
    "unique_products = df['ProductNo'].nunique()\n",
    "print(unique_products)"
   ]
  },
  {
   "cell_type": "code",
   "execution_count": 19,
   "id": "5d0535bb-cb5b-4a44-ab4a-e28662333470",
   "metadata": {},
   "outputs": [
    {
     "name": "stdout",
     "output_type": "stream",
     "text": [
      "4738\n"
     ]
    }
   ],
   "source": [
    "unique_customers = df['CustomerNo'].nunique()\n",
    "print(unique_customers)"
   ]
  },
  {
   "cell_type": "code",
   "execution_count": 20,
   "id": "a67a2543-d79a-494a-b0df-a7991a613d70",
   "metadata": {},
   "outputs": [
    {
     "name": "stdout",
     "output_type": "stream",
     "text": [
      "38\n"
     ]
    }
   ],
   "source": [
    "unique_countries = df['Country'].nunique()\n",
    "print(unique_countries)"
   ]
  },
  {
   "cell_type": "code",
   "execution_count": 21,
   "id": "b70eec93-30c0-4d5e-8a2b-1d3d4971009c",
   "metadata": {},
   "outputs": [
    {
     "name": "stdout",
     "output_type": "stream",
     "text": [
      "ProductName                         ProductNo\n",
      "Popcorn Holder                      22197        583075.23\n",
      "World War 2 Gliders Asstd Designs   84077        556157.63\n",
      "Paper Craft Little Birdie           23843        501359.05\n",
      "Cream Hanging Heart T-Light Holder  85123A       451163.73\n",
      "Assorted Colour Bird Ornament       84879        419557.68\n",
      "Pack Of 72 Retrospot Cake Cases     21212        388180.66\n",
      "Rabbit Night Light                  23084        327293.83\n",
      "Jumbo Bag Red Retrospot             85099B       289853.95\n",
      "Regency Cakestand 3 Tier            22423        288752.33\n",
      "Mini Paint Set Vintage              22492        284870.92\n",
      "Name: TotalSales, dtype: float64\n"
     ]
    }
   ],
   "source": [
    "top_products = df.groupby(['ProductName','ProductNo'])['TotalSales'].sum().sort_values(ascending = False).head(10)\n",
    "print(top_products)"
   ]
  },
  {
   "cell_type": "code",
   "execution_count": 22,
   "id": "118473f8-8b03-427f-b2df-d184f3f9d4e7",
   "metadata": {},
   "outputs": [
    {
     "data": {
      "image/png": "[encoded data removed]",
      "text/plain": [
       "<Figure size 640x480 with 1 Axes>"
      ]
     },
     "metadata": {},
     "output_type": "display_data"
    }
   ],
   "source": [
    "top_products.plot(kind='bar', title='Top 10 Products by Sales')\n",
    "plt.ylabel('Total Sales (£)')\n",
    "plt.show()"
   ]
  },
  {
   "cell_type": "code",
   "execution_count": 23,
   "id": "14b25a02-7a2f-4be6-bbd3-604834da53ef",
   "metadata": {},
   "outputs": [
    {
     "name": "stdout",
     "output_type": "stream",
     "text": [
      "Country\n",
      "United Kingdom    49855388.84\n",
      "Netherlands        2147811.39\n",
      "EIRE               1659053.51\n",
      "Germany            1348561.75\n",
      "France             1316144.75\n",
      "Australia           988562.45\n",
      "Sweden              396042.61\n",
      "Switzerland         358146.32\n",
      "Japan               283293.47\n",
      "Belgium             271346.98\n",
      "Name: TotalSales, dtype: float64\n"
     ]
    }
   ],
   "source": [
    "sales_by_country = df.groupby('Country')['TotalSales'].sum().sort_values(ascending = False).head(10)\n",
    "print(sales_by_country)"
   ]
  },
  {
   "cell_type": "code",
   "execution_count": 24,
   "id": "14b7f0e5-a8c2-44ac-9548-07924cb2a308",
   "metadata": {},
   "outputs": [
    {
     "data": {
      "image/png": "[encoded data removed]",
      "text/plain": [
       "<Figure size 640x480 with 1 Axes>"
      ]
     },
     "metadata": {},
     "output_type": "display_data"
    }
   ],
   "source": [
    "sales_by_country.plot(kind='bar', title='Top 10 Countries by Sales')\n",
    "plt.ylabel('Total Sales (£)')\n",
    "\n",
    "plt.show()"
   ]
  },
  {
   "cell_type": "code",
   "execution_count": 25,
   "id": "357af55c-d681-4ac9-9d04-0049b4dfbd3c",
   "metadata": {},
   "outputs": [
    {
     "name": "stdout",
     "output_type": "stream",
     "text": [
      "YearMonth\n",
      "2018-12    4217281.53\n",
      "2019-01    3638948.12\n",
      "2019-02    3292324.69\n",
      "2019-03    4340035.60\n",
      "2019-04    3406002.17\n",
      "2019-05    4521986.96\n",
      "2019-06    4404297.96\n",
      "2019-07    4501972.15\n",
      "2019-08    4609655.77\n",
      "2019-09    6529427.35\n",
      "2019-10    6965035.30\n",
      "2019-11    7712905.93\n",
      "2019-12    1994715.74\n",
      "Freq: M, Name: TotalSales, dtype: float64\n"
     ]
    }
   ],
   "source": [
    "df['YearMonth'] = df['Date'].dt.to_period('M')\n",
    "monthly_sales = df.groupby('YearMonth')['TotalSales'].sum()\n",
    "print(monthly_sales)"
   ]
  },
  {
   "cell_type": "code",
   "execution_count": 26,
   "id": "7b0c2809-0a57-447d-b41a-ff14a4228c37",
   "metadata": {},
   "outputs": [
    {
     "name": "stdout",
     "output_type": "stream",
     "text": [
      "Sales data starts from: 2018-12\n",
      "Sales data ends at: 2019-12\n"
     ]
    }
   ],
   "source": [
    "start_month = df['YearMonth'].min()\n",
    "end_month = df['YearMonth'].max()\n",
    "\n",
    "print(\"Sales data starts from:\", start_month)\n",
    "print(\"Sales data ends at:\", end_month)"
   ]
  },
  {
   "cell_type": "code",
   "execution_count": 27,
   "id": "2416fb6b-899d-48e2-8845-8b196c7e91c6",
   "metadata": {},
   "outputs": [
    {
     "data": {
      "image/png": "[encoded data removed]",
      "text/plain": [
       "<Figure size 640x480 with 1 Axes>"
      ]
     },
     "metadata": {},
     "output_type": "display_data"
    }
   ],
   "source": [
    "monthly_sales.plot(kind='line', marker='o', title='Monthly Sales Trend')\n",
    "plt.ylabel('Total Sales (£)')\n",
    "plt.xlabel('Month')\n",
    "plt.show()"
   ]
  },
  {
   "cell_type": "code",
   "execution_count": 28,
   "id": "1fd52662-0401-413b-81df-c82664cf7e2e",
   "metadata": {},
   "outputs": [
    {
     "name": "stdout",
     "output_type": "stream",
     "text": [
      "CustomerNo\n",
      "14911.0    241\n",
      "12748.0    218\n",
      "17841.0    170\n",
      "14606.0    125\n",
      "13089.0    119\n",
      "15311.0    118\n",
      "12971.0     88\n",
      "13408.0     75\n",
      "14646.0     74\n",
      "16029.0     66\n",
      "Name: TransactionNo, dtype: int64\n"
     ]
    }
   ],
   "source": [
    "top_customers = df.groupby('CustomerNo')['TransactionNo'].nunique().sort_values(ascending = False).head(10)\n",
    "print(top_customers)"
   ]
  },
  {
   "cell_type": "code",
   "execution_count": 29,
   "id": "0d96b56d-19ad-4cb8-a9c9-684055c22f41",
   "metadata": {},
   "outputs": [
    {
     "data": {
      "image/png": "[encoded data removed]",
      "text/plain": [
       "<Figure size 640x480 with 1 Axes>"
      ]
     },
     "metadata": {},
     "output_type": "display_data"
    }
   ],
   "source": [
    "top_customers.plot(kind = 'bar', title = 'top 10 customers by no. of transactions')\n",
    "plt.ylabel ('No. of Transactions')\n",
    "plt.show()"
   ]
  },
  {
   "cell_type": "code",
   "execution_count": 30,
   "id": "2756a620-c85d-47d4-ae4a-c50840d2e307",
   "metadata": {},
   "outputs": [],
   "source": [
    "df.to_csv('eda_done_cleaned_data.csv', index = False)"
   ]
  },
  {
   "cell_type": "code",
   "execution_count": 31,
   "id": "faa6c7d2-7757-4a00-9a54-81b2d9bcdf4e",
   "metadata": {},
   "outputs": [
    {
     "name": "stdout",
     "output_type": "stream",
     "text": [
      "<class 'pandas.core.frame.DataFrame'>\n",
      "Index: 531095 entries, 0 to 536349\n",
      "Data columns (total 10 columns):\n",
      " #   Column         Non-Null Count   Dtype         \n",
      "---  ------         --------------   -----         \n",
      " 0   TransactionNo  531095 non-null  object        \n",
      " 1   Date           531095 non-null  datetime64[ns]\n",
      " 2   ProductNo      531095 non-null  object        \n",
      " 3   ProductName    531095 non-null  object        \n",
      " 4   Price          531095 non-null  float64       \n",
      " 5   Quantity       531095 non-null  int64         \n",
      " 6   CustomerNo     531095 non-null  float64       \n",
      " 7   Country        531095 non-null  object        \n",
      " 8   TotalSales     531095 non-null  float64       \n",
      " 9   YearMonth      531095 non-null  period[M]     \n",
      "dtypes: datetime64[ns](1), float64(3), int64(1), object(4), period[M](1)\n",
      "memory usage: 44.6+ MB\n"
     ]
    }
   ],
   "source": []
  },
  {
   "cell_type": "code",
   "execution_count": 32,
   "id": "0efc45c0-f4ca-44c1-9024-fb9dc990261e",
   "metadata": {},
   "outputs": [],
   "source": [
    "products = df[['ProductNo','ProductName']].drop_duplicates()\n",
    "products.to_csv('only_products_psk.csv',index = False)"
   ]
  },
  {
   "cell_type": "code",
   "execution_count": 33,
   "id": "adc1a88c-c04f-4803-b104-48f94e1d7ddb",
   "metadata": {},
   "outputs": [],
   "source": [
    "customers = df[['CustomerNo']].drop_duplicates()\n",
    "customers.to_csv('only_customers_psk.csv',index = False)"
   ]
  },
  {
   "cell_type": "code",
   "execution_count": 34,
   "id": "4726b3ca-58f3-41cf-8c87-cbf506ef5ca1",
   "metadata": {},
   "outputs": [],
   "source": [
    "countries = df[['Country']].drop_duplicates().rename(columns={'Country':'CountryName'})\n",
    "countries.to_csv('only_countries_psk.csv',index = False)"
   ]
  },
  {
   "cell_type": "code",
   "execution_count": 35,
   "id": "c23acca0-47e6-4a85-b3d2-7ad1775d4e07",
   "metadata": {},
   "outputs": [
    {
     "name": "stdout",
     "output_type": "stream",
     "text": [
      "<class 'pandas.core.frame.DataFrame'>\n",
      "Index: 531095 entries, 0 to 536349\n",
      "Data columns (total 10 columns):\n",
      " #   Column         Non-Null Count   Dtype         \n",
      "---  ------         --------------   -----         \n",
      " 0   TransactionNo  531095 non-null  object        \n",
      " 1   Date           531095 non-null  datetime64[ns]\n",
      " 2   ProductNo      531095 non-null  object        \n",
      " 3   ProductName    531095 non-null  object        \n",
      " 4   Price          531095 non-null  float64       \n",
      " 5   Quantity       531095 non-null  int64         \n",
      " 6   CustomerNo     531095 non-null  float64       \n",
      " 7   Country        531095 non-null  object        \n",
      " 8   TotalSales     531095 non-null  float64       \n",
      " 9   YearMonth      531095 non-null  period[M]     \n",
      "dtypes: datetime64[ns](1), float64(3), int64(1), object(4), period[M](1)\n",
      "memory usage: 44.6+ MB\n"
     ]
    }
   ],
   "source": []
  },
  {
   "cell_type": "code",
   "execution_count": 36,
   "id": "3d0740a4-0304-4990-86ff-a026c1a367e6",
   "metadata": {},
   "outputs": [
    {
     "data": {
      "text/plain": [
       "(531095, 10)"
      ]
     },
     "execution_count": 36,
     "metadata": {},
     "output_type": "execute_result"
    }
   ],
   "source": []
  },
  {
   "cell_type": "code",
   "execution_count": 37,
   "id": "54ca259f-f96c-4851-9165-8d640ced9e1e",
   "metadata": {},
   "outputs": [
    {
     "data": {
      "text/html": [
       "<div>\n",
       "<style scoped>\n",
       "    .dataframe tbody tr th:only-of-type {\n",
       "        vertical-align: middle;\n",
       "    }\n",
       "\n",
       "    .dataframe tbody tr th {\n",
       "        vertical-align: top;\n",
       "    }\n",
       "\n",
       "    .dataframe thead th {\n",
       "        text-align: right;\n",
       "    }\n",
       "</style>\n",
       "<table border=\"1\" class=\"dataframe\">\n",
       "  <thead>\n",
       "    <tr style=\"text-align: right;\">\n",
       "      <th></th>\n",
       "      <th>CustomerNo</th>\n",
       "      <th>Recency</th>\n",
       "    </tr>\n",
       "  </thead>\n",
       "  <tbody>\n",
       "    <tr>\n",
       "      <th>2447</th>\n",
       "      <td>15350.0</td>\n",
       "      <td>374</td>\n",
       "    </tr>\n",
       "    <tr>\n",
       "      <th>4578</th>\n",
       "      <td>18074.0</td>\n",
       "      <td>374</td>\n",
       "    </tr>\n",
       "    <tr>\n",
       "      <th>4536</th>\n",
       "      <td>18011.0</td>\n",
       "      <td>374</td>\n",
       "    </tr>\n",
       "    <tr>\n",
       "      <th>4457</th>\n",
       "      <td>17908.0</td>\n",
       "      <td>374</td>\n",
       "    </tr>\n",
       "    <tr>\n",
       "      <th>442</th>\n",
       "      <td>12791.0</td>\n",
       "      <td>374</td>\n",
       "    </tr>\n",
       "    <tr>\n",
       "      <th>...</th>\n",
       "      <td>...</td>\n",
       "      <td>...</td>\n",
       "    </tr>\n",
       "    <tr>\n",
       "      <th>2810</th>\n",
       "      <td>15804.0</td>\n",
       "      <td>1</td>\n",
       "    </tr>\n",
       "    <tr>\n",
       "      <th>379</th>\n",
       "      <td>12713.0</td>\n",
       "      <td>1</td>\n",
       "    </tr>\n",
       "    <tr>\n",
       "      <th>352</th>\n",
       "      <td>12680.0</td>\n",
       "      <td>1</td>\n",
       "    </tr>\n",
       "    <tr>\n",
       "      <th>4082</th>\n",
       "      <td>17428.0</td>\n",
       "      <td>1</td>\n",
       "    </tr>\n",
       "    <tr>\n",
       "      <th>4123</th>\n",
       "      <td>17490.0</td>\n",
       "      <td>1</td>\n",
       "    </tr>\n",
       "  </tbody>\n",
       "</table>\n",
       "<p>4738 rows × 2 columns</p>\n",
       "</div>"
      ],
      "text/plain": [
       "      CustomerNo  Recency\n",
       "2447     15350.0      374\n",
       "4578     18074.0      374\n",
       "4536     18011.0      374\n",
       "4457     17908.0      374\n",
       "442      12791.0      374\n",
       "...          ...      ...\n",
       "2810     15804.0        1\n",
       "379      12713.0        1\n",
       "352      12680.0        1\n",
       "4082     17428.0        1\n",
       "4123     17490.0        1\n",
       "\n",
       "[4738 rows x 2 columns]"
      ]
     },
     "execution_count": 37,
     "metadata": {},
     "output_type": "execute_result"
    }
   ],
   "source": []
  },
  {
   "cell_type": "code",
   "execution_count": 38,
   "id": "928e8316-a349-47f5-8ddb-60843298c831",
   "metadata": {},
   "outputs": [
    {
     "data": {
      "text/html": [
       "<div>\n",
       "<style scoped>\n",
       "    .dataframe tbody tr th:only-of-type {\n",
       "        vertical-align: middle;\n",
       "    }\n",
       "\n",
       "    .dataframe tbody tr th {\n",
       "        vertical-align: top;\n",
       "    }\n",
       "\n",
       "    .dataframe thead th {\n",
       "        text-align: right;\n",
       "    }\n",
       "</style>\n",
       "<table border=\"1\" class=\"dataframe\">\n",
       "  <thead>\n",
       "    <tr style=\"text-align: right;\">\n",
       "      <th></th>\n",
       "      <th>CustomerNo</th>\n",
       "      <th>Frequency</th>\n",
       "    </tr>\n",
       "  </thead>\n",
       "  <tbody>\n",
       "    <tr>\n",
       "      <th>2093</th>\n",
       "      <td>14911.0</td>\n",
       "      <td>241</td>\n",
       "    </tr>\n",
       "    <tr>\n",
       "      <th>409</th>\n",
       "      <td>12748.0</td>\n",
       "      <td>218</td>\n",
       "    </tr>\n",
       "    <tr>\n",
       "      <th>4402</th>\n",
       "      <td>17841.0</td>\n",
       "      <td>170</td>\n",
       "    </tr>\n",
       "    <tr>\n",
       "      <th>1857</th>\n",
       "      <td>14606.0</td>\n",
       "      <td>125</td>\n",
       "    </tr>\n",
       "    <tr>\n",
       "      <th>670</th>\n",
       "      <td>13089.0</td>\n",
       "      <td>119</td>\n",
       "    </tr>\n",
       "    <tr>\n",
       "      <th>...</th>\n",
       "      <td>...</td>\n",
       "      <td>...</td>\n",
       "    </tr>\n",
       "    <tr>\n",
       "      <th>16</th>\n",
       "      <td>12078.0</td>\n",
       "      <td>1</td>\n",
       "    </tr>\n",
       "    <tr>\n",
       "      <th>17</th>\n",
       "      <td>12080.0</td>\n",
       "      <td>1</td>\n",
       "    </tr>\n",
       "    <tr>\n",
       "      <th>18</th>\n",
       "      <td>12081.0</td>\n",
       "      <td>1</td>\n",
       "    </tr>\n",
       "    <tr>\n",
       "      <th>19</th>\n",
       "      <td>12082.0</td>\n",
       "      <td>1</td>\n",
       "    </tr>\n",
       "    <tr>\n",
       "      <th>20</th>\n",
       "      <td>12087.0</td>\n",
       "      <td>1</td>\n",
       "    </tr>\n",
       "  </tbody>\n",
       "</table>\n",
       "<p>4738 rows × 2 columns</p>\n",
       "</div>"
      ],
      "text/plain": [
       "      CustomerNo  Frequency\n",
       "2093     14911.0        241\n",
       "409      12748.0        218\n",
       "4402     17841.0        170\n",
       "1857     14606.0        125\n",
       "670      13089.0        119\n",
       "...          ...        ...\n",
       "16       12078.0          1\n",
       "17       12080.0          1\n",
       "18       12081.0          1\n",
       "19       12082.0          1\n",
       "20       12087.0          1\n",
       "\n",
       "[4738 rows x 2 columns]"
      ]
     },
     "execution_count": 38,
     "metadata": {},
     "output_type": "execute_result"
    }
   ],
   "source": []
  },
  {
   "cell_type": "code",
   "execution_count": 39,
   "id": "2de6b5f5-1886-4d80-b97d-01fa7704da4c",
   "metadata": {},
   "outputs": [
    {
     "data": {
      "text/html": [
       "<div>\n",
       "<style scoped>\n",
       "    .dataframe tbody tr th:only-of-type {\n",
       "        vertical-align: middle;\n",
       "    }\n",
       "\n",
       "    .dataframe tbody tr th {\n",
       "        vertical-align: top;\n",
       "    }\n",
       "\n",
       "    .dataframe thead th {\n",
       "        text-align: right;\n",
       "    }\n",
       "</style>\n",
       "<table border=\"1\" class=\"dataframe\">\n",
       "  <thead>\n",
       "    <tr style=\"text-align: right;\">\n",
       "      <th></th>\n",
       "      <th>CustomerNo</th>\n",
       "      <th>Monetary</th>\n",
       "    </tr>\n",
       "  </thead>\n",
       "  <tbody>\n",
       "    <tr>\n",
       "      <th>1887</th>\n",
       "      <td>14646.0</td>\n",
       "      <td>2108959.95</td>\n",
       "    </tr>\n",
       "    <tr>\n",
       "      <th>4599</th>\n",
       "      <td>18102.0</td>\n",
       "      <td>897137.36</td>\n",
       "    </tr>\n",
       "    <tr>\n",
       "      <th>126</th>\n",
       "      <td>12415.0</td>\n",
       "      <td>895267.24</td>\n",
       "    </tr>\n",
       "    <tr>\n",
       "      <th>4098</th>\n",
       "      <td>17450.0</td>\n",
       "      <td>876447.01</td>\n",
       "    </tr>\n",
       "    <tr>\n",
       "      <th>2093</th>\n",
       "      <td>14911.0</td>\n",
       "      <td>872608.57</td>\n",
       "    </tr>\n",
       "    <tr>\n",
       "      <th>...</th>\n",
       "      <td>...</td>\n",
       "      <td>...</td>\n",
       "    </tr>\n",
       "    <tr>\n",
       "      <th>4175</th>\n",
       "      <td>17548.0</td>\n",
       "      <td>-1498.20</td>\n",
       "    </tr>\n",
       "    <tr>\n",
       "      <th>3982</th>\n",
       "      <td>17307.0</td>\n",
       "      <td>-1632.96</td>\n",
       "    </tr>\n",
       "    <tr>\n",
       "      <th>3548</th>\n",
       "      <td>16742.0</td>\n",
       "      <td>-1714.91</td>\n",
       "    </tr>\n",
       "    <tr>\n",
       "      <th>3169</th>\n",
       "      <td>16252.0</td>\n",
       "      <td>-1921.72</td>\n",
       "    </tr>\n",
       "    <tr>\n",
       "      <th>1557</th>\n",
       "      <td>14213.0</td>\n",
       "      <td>-3722.46</td>\n",
       "    </tr>\n",
       "  </tbody>\n",
       "</table>\n",
       "<p>4738 rows × 2 columns</p>\n",
       "</div>"
      ],
      "text/plain": [
       "      CustomerNo    Monetary\n",
       "1887     14646.0  2108959.95\n",
       "4599     18102.0   897137.36\n",
       "126      12415.0   895267.24\n",
       "4098     17450.0   876447.01\n",
       "2093     14911.0   872608.57\n",
       "...          ...         ...\n",
       "4175     17548.0    -1498.20\n",
       "3982     17307.0    -1632.96\n",
       "3548     16742.0    -1714.91\n",
       "3169     16252.0    -1921.72\n",
       "1557     14213.0    -3722.46\n",
       "\n",
       "[4738 rows x 2 columns]"
      ]
     },
     "execution_count": 39,
     "metadata": {},
     "output_type": "execute_result"
    }
   ],
   "source": []
  }
 ],
 "metadata": {
  "kernelspec": {
   "display_name": "Python [conda env:base] *",
   "language": "python",
   "name": "conda-base-py"
  },
  "language_info": {
   "codemirror_mode": {
    "name": "ipython",
    "version": 3
   },
   "file_extension": ".py",
   "mimetype": "text/x-python",
   "name": "python",
   "nbconvert_exporter": "python",
   "pygments_lexer": "ipython3",
   "version": "3.13.5"
  }
 },
 "nbformat": 4,
 "nbformat_minor": 5
}
